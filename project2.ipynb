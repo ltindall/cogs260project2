{
 "cells": [
  {
   "cell_type": "code",
   "execution_count": 1,
   "metadata": {
    "collapsed": false
   },
   "outputs": [],
   "source": [
    "from mnist import MNIST\n",
    "mndata = MNIST('./data')\n",
    "images, labels = mndata.load_training()\n",
    "test_images, test_labels = mndata.load_testing()"
   ]
  },
  {
   "cell_type": "code",
   "execution_count": 27,
   "metadata": {
    "collapsed": false
   },
   "outputs": [],
   "source": [
    "import numpy as np\n",
    "\n",
    "images = np.array(images)\n",
    "\n",
    "test_images = np.array(test_images)\n",
    "test_labels = np.array(test_labels)"
   ]
  },
  {
   "cell_type": "code",
   "execution_count": 3,
   "metadata": {
    "collapsed": false
   },
   "outputs": [
    {
     "name": "stdout",
     "output_type": "stream",
     "text": [
      "(60000L, 784L)\n",
      "(10000L, 784L)\n"
     ]
    }
   ],
   "source": [
    "\n"
   ]
  },
  {
   "cell_type": "code",
   "execution_count": 19,
   "metadata": {
    "collapsed": false
   },
   "outputs": [],
   "source": [
    "# problem 1 \n",
    "\n",
    "from sklearn.neighbors import KNeighborsClassifier\n",
    "\n",
    "neigh = KNeighborsClassifier(n_neighbors=1)\n",
    "\n",
    "neigh.fit(images[:30000], labels[:30000]) \n",
    "\n",
    "predictions = neigh.predict(test_images[:2000])\n"
   ]
  },
  {
   "cell_type": "code",
   "execution_count": 33,
   "metadata": {
    "collapsed": false
   },
   "outputs": [
    {
     "name": "stdout",
     "output_type": "stream",
     "text": [
      "success rate = 94.25 %\n",
      "\n",
      "counfustion matrix = \n",
      "[[173   0   0   0   0   0   1   1   0   0]\n",
      " [  0 232   1   0   0   1   0   0   0   0]\n",
      " [  3   2 206   2   0   0   2   4   0   0]\n",
      " [  0   1   1 193   0   3   1   3   3   2]\n",
      " [  0   2   0   0 204   0   2   0   0   9]\n",
      " [  0   0   0   8   1 167   1   1   0   1]\n",
      " [  1   0   0   0   1   2 173   0   1   0]\n",
      " [  0   6   1   1   2   0   0 192   0   3]\n",
      " [  3   0   2   8   3   6   0   2 164   4]\n",
      " [  1   1   0   3   3   1   0   2   2 181]]\n"
     ]
    }
   ],
   "source": [
    "# problem 1 \n",
    "from sklearn.metrics import confusion_matrix\n",
    "\n",
    "correct = sum([a == b for a,b in zip(test_labels[:2000], predictions)])\n",
    "\n",
    "print \"success rate =\",correct/2000.0 * 100,\"%\"\n",
    "print \"\\ncounfustion matrix = \\n\",confusion_matrix(test_labels[:2000], predictions)\n"
   ]
  },
  {
   "cell_type": "code",
   "execution_count": null,
   "metadata": {
    "collapsed": true
   },
   "outputs": [],
   "source": []
  },
  {
   "cell_type": "code",
   "execution_count": 34,
   "metadata": {
    "collapsed": false
   },
   "outputs": [],
   "source": [
    "# problem 2 \n",
    "from sklearn import linear_model\n",
    "clf = linear_model.SGDClassifier()\n",
    "clf.fit(images[:30000], labels[:30000])\n",
    "\n",
    "predictions = clf.predict(test_images[:2000])"
   ]
  },
  {
   "cell_type": "code",
   "execution_count": 35,
   "metadata": {
    "collapsed": false
   },
   "outputs": [
    {
     "name": "stdout",
     "output_type": "stream",
     "text": [
      "success rate = 82.95 %\n",
      "\n",
      "counfustion matrix = \n",
      "[[130   0  16   2   0  11   8   0   8   0]\n",
      " [  0 225   4   0   0   0   1   0   4   0]\n",
      " [  0   1 203   2   1   0   3   3   5   1]\n",
      " [  0   0   7 191   1   3   0   2   2   1]\n",
      " [  0   0  11   2 187   0   4   2   5   6]\n",
      " [  0   0   4  12   1 149   1   2  10   0]\n",
      " [  3   1  12   2   0   4 154   0   2   0]\n",
      " [  0   3  31  16   1   1   1 145   2   5]\n",
      " [  1   3  18  14   5  10   1   2 138   0]\n",
      " [  0   2   6  16  17   4   0   9   3 137]]\n"
     ]
    }
   ],
   "source": [
    "# problem 2\n",
    "from sklearn.metrics import confusion_matrix\n",
    "\n",
    "correct = sum([a == b for a,b in zip(test_labels[:2000], predictions)])\n",
    "\n",
    "print \"success rate =\",correct/2000.0 * 100,\"%\"\n",
    "print \"\\ncounfustion matrix = \\n\",confusion_matrix(test_labels[:2000], predictions)\n"
   ]
  }
 ],
 "metadata": {
  "anaconda-cloud": {},
  "kernelspec": {
   "display_name": "Python [conda root]",
   "language": "python",
   "name": "conda-root-py"
  },
  "language_info": {
   "codemirror_mode": {
    "name": "ipython",
    "version": 2
   },
   "file_extension": ".py",
   "mimetype": "text/x-python",
   "name": "python",
   "nbconvert_exporter": "python",
   "pygments_lexer": "ipython2",
   "version": "2.7.12"
  }
 },
 "nbformat": 4,
 "nbformat_minor": 2
}
