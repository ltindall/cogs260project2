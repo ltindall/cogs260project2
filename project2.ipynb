{
 "cells": [
  {
   "cell_type": "code",
   "execution_count": 2,
   "metadata": {
    "collapsed": false
   },
   "outputs": [],
   "source": [
    "from mnist import MNIST\n",
    "mndata = MNIST('./mnist_data')\n",
    "images, labels = mndata.load_training()\n",
    "test_images, test_labels = mndata.load_testing()"
   ]
  },
  {
   "cell_type": "code",
   "execution_count": 3,
   "metadata": {
    "collapsed": false
   },
   "outputs": [],
   "source": [
    "import numpy as np\n",
    "\n",
    "images = np.array(images)\n",
    "labels = np.array(labels)\n",
    "\n",
    "test_images = np.array(test_images)\n",
    "test_labels = np.array(test_labels)"
   ]
  },
  {
   "cell_type": "code",
   "execution_count": null,
   "metadata": {
    "collapsed": false
   },
   "outputs": [],
   "source": [
    "\n",
    "images[:1]"
   ]
  },
  {
   "cell_type": "code",
   "execution_count": null,
   "metadata": {
    "collapsed": false
   },
   "outputs": [],
   "source": [
    "# problem 1 \n",
    "\n",
    "from sklearn.neighbors import KNeighborsClassifier\n",
    "\n",
    "neigh = KNeighborsClassifier(n_neighbors=1)\n",
    "\n",
    "neigh.fit(images[:30000], labels[:30000]) \n",
    "\n",
    "predictions = neigh.predict(test_images[:2000])\n"
   ]
  },
  {
   "cell_type": "code",
   "execution_count": null,
   "metadata": {
    "collapsed": false
   },
   "outputs": [],
   "source": [
    "# problem 1 \n",
    "from sklearn.metrics import confusion_matrix\n",
    "\n",
    "correct = sum([a == b for a,b in zip(test_labels[:2000], predictions)])\n",
    "\n",
    "print \"success rate =\",correct/2000.0 * 100,\"%\"\n",
    "print \"\\ncounfustion matrix = \\n\",confusion_matrix(test_labels[:2000], predictions)\n"
   ]
  },
  {
   "cell_type": "code",
   "execution_count": null,
   "metadata": {
    "collapsed": false
   },
   "outputs": [],
   "source": [
    "print 'test'"
   ]
  },
  {
   "cell_type": "code",
   "execution_count": null,
   "metadata": {
    "collapsed": false
   },
   "outputs": [],
   "source": [
    "# problem 2 \n",
    "from sklearn import linear_model\n",
    "clf = linear_model.SGDClassifier()\n",
    "clf.fit(images[:30000], labels[:30000])\n",
    "\n",
    "predictions = clf.predict(test_images[:2000])"
   ]
  },
  {
   "cell_type": "code",
   "execution_count": null,
   "metadata": {
    "collapsed": false
   },
   "outputs": [],
   "source": [
    "# problem 2\n",
    "from sklearn.metrics import confusion_matrix\n",
    "\n",
    "correct = sum([a == b for a,b in zip(test_labels[:2000], predictions)])\n",
    "\n",
    "print \"success rate =\",correct/2000.0 * 100,\"%\"\n",
    "print \"\\ncounfustion matrix = \\n\",confusion_matrix(test_labels[:2000], predictions)\n"
   ]
  },
  {
   "cell_type": "code",
   "execution_count": null,
   "metadata": {
    "collapsed": false
   },
   "outputs": [],
   "source": [
    "from sklearn import svm\n",
    "X = images[:3000]\n",
    "y = labels[:3000]\n",
    "clf = svm.SVC()\n",
    "clf.fit(X, y)  \n",
    "\n",
    "predictions = clf.predict(test_images[:2000])"
   ]
  },
  {
   "cell_type": "code",
   "execution_count": null,
   "metadata": {
    "collapsed": false
   },
   "outputs": [],
   "source": [
    "from sklearn import svm\n",
    "X = images[:15000]\n",
    "y = labels[:15000]\n",
    "#clf = svm.SVC(decision_function_shape='ovr',kernel='linear')\n",
    "clf = svm.SVC(decision_function_shape='ovr',kernel='poly',degree=3)\n",
    "clf.fit(X, y)  \n",
    "\n",
    "predictions = clf.predict(test_images[:2000])"
   ]
  },
  {
   "cell_type": "code",
   "execution_count": null,
   "metadata": {
    "collapsed": false
   },
   "outputs": [],
   "source": [
    "# problem 2\n",
    "from sklearn.metrics import confusion_matrix\n",
    "\n",
    "correct = sum([a == b for a,b in zip(test_labels[:2000], predictions)])\n",
    "\n",
    "print \"success rate =\",correct/2000.0 * 100,\"%\"\n",
    "print \"\\ncounfustion matrix = \\n\",confusion_matrix(test_labels[:2000], predictions)"
   ]
  },
  {
   "cell_type": "code",
   "execution_count": 13,
   "metadata": {
    "collapsed": false
   },
   "outputs": [
    {
     "name": "stdout",
     "output_type": "stream",
     "text": [
      "[[ 0.27591706  0.37186328  0.17641462  0.50630868  0.13748032]\n",
      " [ 0.08594063  0.14957183  0.84348856  0.42371007  0.92454301]\n",
      " [ 0.36416208  0.94654872  0.16501001  0.22683669  0.8544953 ]\n",
      " [ 0.26895067  0.44706188  0.47973966  0.68393591  0.46638173]\n",
      " [ 0.86552925  0.42106154  0.49438275  0.39650543  0.88694629]\n",
      " [ 0.24062939  0.59049156  0.40474142  0.17399624  0.57651526]]\n",
      "[[ 0.27591706  0.37186328  0.17641462  0.50630868  0.13748032]\n",
      " [ 0.08594063  0.14957183  0.84348856  0.42371007  0.92454301]]\n"
     ]
    }
   ],
   "source": [
    "asdf = np.random.rand(6,5)\n",
    "print asdf\n",
    "print asdf[:2]\n"
   ]
  },
  {
   "cell_type": "code",
   "execution_count": null,
   "metadata": {
    "collapsed": false
   },
   "outputs": [],
   "source": [
    "import os\n",
    "os.getcwd() \n",
    "sys.path.append(os.getcwd())\n"
   ]
  },
  {
   "cell_type": "code",
   "execution_count": null,
   "metadata": {
    "collapsed": false
   },
   "outputs": [],
   "source": [
    "__author__ = 'GongLi'\n",
    "import os\n",
    "os.getcwd() \n",
    "sys.path.append(os.getcwd())\n",
    "\n",
    "from recognition import utils\n",
    "from recognition import classification\n",
    "\n",
    "def buildHistogram(path, level):\n",
    "\n",
    "    # Read in vocabulary & data\n",
    "    voc = utils.loadDataFromFile(\"Data/voc.pkl\")\n",
    "    trainData = utils.readImages(\"images/\"+path)\n",
    "\n",
    "    # Transform each feature into histogram\n",
    "    featureHistogram = []\n",
    "    labels = []\n",
    "\n",
    "    index = 0\n",
    "    for oneImage in trainData:\n",
    "\n",
    "        featureHistogram.append(voc.buildHistogramForEachImageAtDifferentLevels(oneImage, level))\n",
    "        labels.append(oneImage.label)\n",
    "\n",
    "        index += 1\n",
    "\n",
    "    utils.writeDataToFile(\"Data/\"+path+\"HistogramLevel\" +str(level)+ \".pkl\", featureHistogram)\n",
    "    utils.writeDataToFile(\"Data/\"+path+\"labels.pkl\", labels)\n",
    "\n",
    "\n",
    "\n",
    "def main():\n",
    "\n",
    "    # 1) build histograms\n",
    "\n",
    "    # buildHistogram(\"testing\", 0)\n",
    "    # buildHistogram(\"training\", 0)\n",
    "    #\n",
    "    # buildHistogram(\"testing\", 1)\n",
    "    # buildHistogram(\"training\", 1)\n",
    "\n",
    "    buildHistogram(\"testing\", 2)\n",
    "    buildHistogram(\"training\", 2)\n",
    "\n",
    "    # 2) classify\n",
    "    print(\" \")\n",
    "    print(\"Level 2, 21 * (vocabulary size) dimensions, in this case, 6300 dimensions for each histogram\")\n",
    "    classification.SVM_Classify(\"Data/trainingHistogramLevel2.pkl\", \"Data/traininglabels.pkl\", \"Data/testingHistogramLevel2.pkl\", \"Data/testinglabels.pkl\", \"linear\")\n",
    "    classification.SVM_Classify(\"Data/trainingHistogramLevel2.pkl\", \"Data/traininglabels.pkl\", \"Data/testingHistogramLevel2.pkl\", \"Data/testinglabels.pkl\", \"poly\")\n",
    "    classification.SVM_Classify(\"Data/trainingHistogramLevel2.pkl\", \"Data/traininglabels.pkl\", \"Data/testingHistogramLevel2.pkl\", \"Data/testinglabels.pkl\", \"rbf\")\n",
    "    classification.SVM_Classify(\"Data/trainingHistogramLevel2.pkl\", \"Data/traininglabels.pkl\", \"Data/testingHistogramLevel2.pkl\", \"Data/testinglabels.pkl\", \"sigmoid\")\n",
    "    classification.SVM_Classify(\"Data/trainingHistogramLevel2.pkl\", \"Data/traininglabels.pkl\", \"Data/testingHistogramLevel2.pkl\", \"Data/testinglabels.pkl\", \"HI\")\n",
    "\n",
    "    classification.KNN_Classify(\"Data/trainingHistogramLevel2.pkl\", \"Data/traininglabels.pkl\", \"Data/testingHistogramLevel2.pkl\", \"Data/testinglabels.pkl\")\n",
    "\n",
    "\n",
    "\n",
    "main()\n"
   ]
  },
  {
   "cell_type": "code",
   "execution_count": null,
   "metadata": {
    "collapsed": false
   },
   "outputs": [],
   "source": [
    "import os\n",
    "os.system('C:/Users/ljt/Documents/cogs260/project2/vlfeat-0.9.20/bin/win64/sift  tmp.pgm --output=temp.sift --read-frames=tmp.frame')"
   ]
  },
  {
   "cell_type": "code",
   "execution_count": null,
   "metadata": {
    "collapsed": false
   },
   "outputs": [],
   "source": [
    "#4\n",
    "\n",
    "\n",
    "from tensorflow.examples.tutorials.mnist import input_data\n",
    "mnist = input_data.read_data_sets('MNIST_data', one_hot=True)\n",
    "\n",
    "\n",
    "\n",
    "import tensorflow as tf\n",
    "sess = tf.InteractiveSession()"
   ]
  },
  {
   "cell_type": "code",
   "execution_count": null,
   "metadata": {
    "collapsed": false
   },
   "outputs": [],
   "source": [
    "x = tf.placeholder(tf.float32, shape=[None, 784])\n",
    "y_ = tf.placeholder(tf.float32, shape=[None, 10])\n",
    "\n",
    "W = tf.Variable(tf.zeros([784,10]))\n",
    "b = tf.Variable(tf.zeros([10]))\n",
    "\n",
    "sess.run(tf.global_variables_initializer())\n",
    "\n",
    "y = tf.matmul(x,W) + b\n",
    "\n",
    "cross_entropy = tf.reduce_mean(tf.nn.softmax_cross_entropy_with_logits(labels=y_, logits=y))\n",
    "\n",
    "train_step = tf.train.GradientDescentOptimizer(0.5).minimize(cross_entropy)\n",
    "\n",
    "for _ in range(1000):\n",
    "  batch = mnist.train.next_batch(100)\n",
    "  train_step.run(feed_dict={x: batch[0], y_: batch[1]})"
   ]
  },
  {
   "cell_type": "code",
   "execution_count": null,
   "metadata": {
    "collapsed": false
   },
   "outputs": [],
   "source": [
    "correct_prediction = tf.equal(tf.argmax(y,1), tf.argmax(y_,1))\n",
    "\n",
    "accuracy = tf.reduce_mean(tf.cast(correct_prediction, tf.float32))\n",
    "\n",
    "print(accuracy.eval(feed_dict={x: mnist.test.images, y_: mnist.test.labels}))"
   ]
  },
  {
   "cell_type": "code",
   "execution_count": null,
   "metadata": {
    "collapsed": true
   },
   "outputs": [],
   "source": [
    "def weight_variable(shape):\n",
    "  initial = tf.truncated_normal(shape, stddev=0.1)\n",
    "  return tf.Variable(initial)\n",
    "\n",
    "def bias_variable(shape):\n",
    "  initial = tf.constant(0.1, shape=shape)\n",
    "  return tf.Variable(initial)\n",
    "\n",
    "def conv2d(x, W):\n",
    "  return tf.nn.conv2d(x, W, strides=[1, 1, 1, 1], padding='SAME')\n",
    "\n",
    "def max_pool_2x2(x):\n",
    "  return tf.nn.max_pool(x, ksize=[1, 2, 2, 1],\n",
    "                        strides=[1, 2, 2, 1], padding='SAME')"
   ]
  },
  {
   "cell_type": "code",
   "execution_count": null,
   "metadata": {
    "collapsed": true
   },
   "outputs": [],
   "source": [
    "x_image = tf.reshape(x, [-1,28,28,1])\n",
    "\n",
    "\n",
    "# first convolutional layer \n",
    "W_conv1 = weight_variable([5, 5, 1, 32])\n",
    "b_conv1 = bias_variable([32])\n",
    "\n",
    "h_conv1 = tf.nn.relu(conv2d(x_image, W_conv1) + b_conv1)\n",
    "h_pool1 = max_pool_2x2(h_conv1)\n",
    "\n",
    "# second convolutional layer \n",
    "W_conv2 = weight_variable([5, 5, 32, 64])\n",
    "b_conv2 = bias_variable([64])\n",
    "\n",
    "h_conv2 = tf.nn.relu(conv2d(h_pool1, W_conv2) + b_conv2)\n",
    "h_pool2 = max_pool_2x2(h_conv2)\n",
    "\n",
    "# densely/fully connected layer \n",
    "W_fc1 = weight_variable([7 * 7 * 64, 1024])\n",
    "b_fc1 = bias_variable([1024])\n",
    "\n",
    "h_pool2_flat = tf.reshape(h_pool2, [-1, 7*7*64])\n",
    "h_fc1 = tf.nn.relu(tf.matmul(h_pool2_flat, W_fc1) + b_fc1)\n",
    "\n",
    "# dropout layer \n",
    "keep_prob = tf.placeholder(tf.float32)\n",
    "h_fc1_drop = tf.nn.dropout(h_fc1, keep_prob)\n",
    "\n",
    "# fully connected final layer \n",
    "W_fc2 = weight_variable([1024, 10])\n",
    "b_fc2 = bias_variable([10])\n",
    "\n",
    "y_conv = tf.matmul(h_fc1_drop, W_fc2) + b_fc2"
   ]
  },
  {
   "cell_type": "code",
   "execution_count": null,
   "metadata": {
    "collapsed": false
   },
   "outputs": [],
   "source": [
    "cross_entropy = tf.reduce_mean(\n",
    "    tf.nn.softmax_cross_entropy_with_logits(labels=y_, logits=y_conv))\n",
    "train_step = tf.train.AdamOptimizer(1e-4).minimize(cross_entropy)\n",
    "correct_prediction = tf.equal(tf.argmax(y_conv,1), tf.argmax(y_,1))\n",
    "accuracy = tf.reduce_mean(tf.cast(correct_prediction, tf.float32))\n",
    "sess.run(tf.global_variables_initializer())\n",
    "for i in range(1000):\n",
    "  batch = mnist.train.next_batch(50)\n",
    "  if i%100 == 0:\n",
    "    train_accuracy = accuracy.eval(feed_dict={\n",
    "        x:batch[0], y_: batch[1], keep_prob: 1.0})\n",
    "    print(\"step %d, training accuracy %g\"%(i, train_accuracy))\n",
    "  train_step.run(feed_dict={x: batch[0], y_: batch[1], keep_prob: 0.5})\n",
    "\n",
    "print(\"test accuracy %g\"%accuracy.eval(feed_dict={\n",
    "    x: mnist.test.images, y_: mnist.test.labels, keep_prob: 1.0}))"
   ]
  }
 ],
 "metadata": {
  "anaconda-cloud": {},
  "kernelspec": {
   "display_name": "Python [conda root]",
   "language": "python",
   "name": "conda-root-py"
  },
  "language_info": {
   "codemirror_mode": {
    "name": "ipython",
    "version": 2
   },
   "file_extension": ".py",
   "mimetype": "text/x-python",
   "name": "python",
   "nbconvert_exporter": "python",
   "pygments_lexer": "ipython2",
   "version": "2.7.12"
  }
 },
 "nbformat": 4,
 "nbformat_minor": 2
}
